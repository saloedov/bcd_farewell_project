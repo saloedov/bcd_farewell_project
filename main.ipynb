{
 "cells": [
  {
   "cell_type": "code",
   "execution_count": 1,
   "metadata": {
    "collapsed": true
   },
   "outputs": [],
   "source": [
    "from wordcloud import WordCloud\n",
    "from PIL import Image\n",
    "from PIL import ImageOps  \n",
    "import numpy as np\n",
    "import matplotlib.pyplot as plt"
   ]
  },
  {
   "cell_type": "code",
   "execution_count": 2,
   "metadata": {},
   "outputs": [],
   "source": [
    "texts = [\n",
    "    '10 землекопов',\n",
    "    'Согласуйте в репозитории',\n",
    "    'Ёбанный стыд',\n",
    "    'ПИДОРАСЫ',\n",
    "    'НАЯБЫВАЮТ',\n",
    "    'ГДЕ ТЗ',\n",
    "    'Согласовано',\n",
    "    'Лотус лежит',\n",
    "    'Бан',\n",
    "    'Оно не сходится',\n",
    "    'ГДЕ ПРОДАЖИ',\n",
    "    'Что Вы делали целый час?!',\n",
    "    'Либо беременна, либо нет',\n",
    "    'Временное - это залог постоянного',\n",
    "    'Там правки по КУАПу',\n",
    "    'Бля',\n",
    "    'Ты сбрасывался?',\n",
    "    'Какие ваши доказательства?',\n",
    "    'Я там письмо написал',\n",
    "    'Все вопросы после обеда',\n",
    "    'Когда на пиво идём?',\n",
    "    'Просрочка по кешам в мае',\n",
    "    'Там задача по PreCollection',\n",
    "    'У IT нет ресурса',\n",
    "    'ОК',\n",
    "    'Согласуйте',\n",
    "    'Заявочка в РЕПО',\n",
    "    'Заявочка в JIRA',\n",
    "    'DWH тупит',\n",
    "    'Нет доступа',\n",
    "    'Дима, откуда эти цифры?',\n",
    "    'Мне Яровой сказал',\n",
    "    'Что там по Portmone?',\n",
    "    'Где доходность?',\n",
    "    'Где PnL?',\n",
    "    'Когда SMS отправят?',\n",
    "    'Где прозвон?',\n",
    "    'Дрисня',\n",
    "    'Ну а хули нам, удалёнщикам',\n",
    "    'Это хуйня!',\n",
    "    'Виноваты риски',\n",
    "    'Виноваты IT',\n",
    "    'У нас ЧП',\n",
    "    'Отчётов нет',\n",
    "    'Оно ещё обновляется',\n",
    "    'Где отчёты',\n",
    "    'Ищите в анале',\n",
    "    'Тексты на согласовании',\n",
    "    'Го курить',\n",
    "    'Люди делятся на два типа',\n",
    "    'Ку',\n",
    "    'Прив',\n",
    "    'Пинг',\n",
    "    'Банк Александра Белого',\n",
    "    'Никополь',\n",
    "    'Там что-то сломалось',\n",
    "    'Это всё попередныкы',\n",
    "    'Что заказываем?',\n",
    "    'Дима Борисов пидорас',\n",
    "    'Кто-то мак будет?',\n",
    "    'Половина Банка раком стоит',\n",
    "    'Отчёт непонятный',\n",
    "    'А можно по-человечески объяснить?',\n",
    "    'Что 300? А что приборы?',\n",
    "    'Дедлайн вчера',\n",
    "    'Я завтра на удалёнке',\n",
    "    'Ты домашку сделал?',\n",
    "    'Давайте по-нормальному',\n",
    "    'Давайте кондиционер включим',\n",
    "    'Мне холодно',\n",
    "    'Ебала жаба гадюку',\n",
    "    'Нет ТЗ - результат ХЗ',\n",
    "    'Шо у тебя в работе?',\n",
    "    'Шо у тебя по задачам?',\n",
    "    'Пойдём выйдем',\n",
    "    'Ты с какой целью интересуешься?',\n",
    "    'Кофе с молоком',\n",
    "    'Вика, ещё не 5',\n",
    "    'Заводим жигуль',\n",
    "    'Всем привет',\n",
    "    'Ну ты там сВПРь',\n",
    "    'Правки УДБО',\n",
    "    'Комитет будет?',\n",
    "    'Надо согласовать с Чудаковским',\n",
    "    'Ура, юристы согласовали',\n",
    "    'Щас',\n",
    "    'Сек',\n",
    "    'Сейчас пописяю',\n",
    "    '2 минуты',\n",
    "    'Давай твои покурим',\n",
    "    'Согласуй с Катей',\n",
    "    'Согласуй с Богданом',\n",
    "    'Нужно перезакрепить задачи',\n",
    "    'СРОЧНО',\n",
    "    'Файлики для Пети',\n",
    "    'Я пидорас',\n",
    "    'Можно глупый вопрос',\n",
    "    'У меня вопрос',\n",
    "    'Там на КУАПе задали вопрос',\n",
    "    'Я главный',\n",
    "    'Это факап',\n",
    "    'Вот было бы ТЗ',\n",
    "    'Воюем с юристами',\n",
    "    'Формулы поехали',\n",
    "    'Почему меня нет в копии?',\n",
    "    'Катя, ты письмо смотрела?',\n",
    "    'Нужно пнуть',\n",
    "    'Где зарплата?',\n",
    "    'Это всё костыли!',\n",
    "    'Методология нечёткая',\n",
    "    'Цифры правдоподобные',\n",
    "    'Похоже на правду',\n",
    "    'Нужно сойтись с рисками',\n",
    "    'Нужно сойтись с финансами',\n",
    "    'Дяка',\n",
    "]\n"
   ]
  },
  {
   "cell_type": "code",
   "execution_count": 3,
   "metadata": {},
   "outputs": [],
   "source": [
    "texts = [t for t in texts if t!='']"
   ]
  },
  {
   "cell_type": "code",
   "execution_count": 4,
   "metadata": {},
   "outputs": [],
   "source": [
    "img = Image.open(r'C:\\Users\\saloe\\Desktop\\бкд.png')\n",
    "\n",
    "r, g, b, a = img.split()\n",
    "rgb_image = Image.merge('RGB', (r, g, b))\n",
    "\n",
    "r, g, b = ImageOps.invert(rgb_image).split()\n",
    "img_inv = Image.merge('RGB', (r, g, b))\n",
    "\n",
    "mask = np.array(img_inv)\n",
    "\n",
    "coloring = np.array(Image.open(r'C:\\Users\\saloe\\Desktop\\bcd_logo.png'))\n",
    "\n",
    "#mask = np.array(img)\n"
   ]
  },
  {
   "cell_type": "code",
   "execution_count": 5,
   "metadata": {},
   "outputs": [],
   "source": [
    "state = 228\n",
    "rs = np.random.RandomState(state)"
   ]
  },
  {
   "cell_type": "code",
   "execution_count": 6,
   "metadata": {},
   "outputs": [],
   "source": [
    "wc = WordCloud(background_color=\"white\", max_words=1000, margin=10, mask=mask, random_state=state,\n",
    "               prefer_horizontal=0.95, min_font_size=24, max_font_size=192, repeat=True, font_path='arial',\n",
    "               width=3508, height=2480, scale=8)\n"
   ]
  },
  {
   "cell_type": "code",
   "execution_count": 7,
   "metadata": {},
   "outputs": [],
   "source": [
    "def save_cloud(word_cloud, file_name):\n",
    "    #w, h = word_cloud.width, word_cloud.height\n",
    "    #dpi = 300\n",
    "    #plt.figure(figsize=(w / dpi, h / dpi))\n",
    "    #plt.imshow(word_cloud, interpolation='bilinear')\n",
    "    #plt.axis(\"off\")\n",
    "    #plt.tight_layout(pad=0)\n",
    "    #plt.savefig(f'{file_name}.png', facecolor='w', bbox_inches='tight', dpi=dpi)\n",
    "    #plt.clf()\n",
    "    word_cloud.to_file(f'{file_name}.png')\n",
    "\n",
    "    with open(f'{file_name}.svg', 'wb') as f:\n",
    "        f.write(word_cloud.to_svg().encode('utf8'))\n"
   ]
  },
  {
   "cell_type": "heading",
   "metadata": {},
   "level": 1,
   "source": [
    "Same frequency for all"
   ]
  },
  {
   "cell_type": "code",
   "execution_count": 8,
   "metadata": {},
   "outputs": [],
   "source": [
    "freq_map = {t: 1 for t in texts}\n",
    "wordcloud = wc.generate_from_frequencies(freq_map).recolor(random_state=state)\n",
    "\n",
    "filename = '00_same_freq'\n",
    "save_cloud(wordcloud, filename)\n"
   ]
  },
  {
   "cell_type": "heading",
   "metadata": {},
   "level": 1,
   "source": [
    "Random frequencies"
   ]
  },
  {
   "cell_type": "code",
   "execution_count": 9,
   "metadata": {},
   "outputs": [],
   "source": [
    "freq_map = {t: rs.random() for t in texts}\n",
    "wordcloud = wc.generate_from_frequencies(freq_map).recolor(random_state=state)\n",
    "\n",
    "filename = '01_random_freq'\n",
    "save_cloud(wordcloud, filename)\n"
   ]
  },
  {
   "cell_type": "heading",
   "metadata": {},
   "level": 1,
   "source": [
    "Frequencies proportional to lengths"
   ]
  },
  {
   "cell_type": "code",
   "execution_count": 10,
   "metadata": {},
   "outputs": [],
   "source": [
    "freq_map = {t: len(t) for t in texts}\n",
    "wordcloud = wc.generate_from_frequencies(freq_map).recolor(random_state=state)\n",
    "\n",
    "filename = '02_proportional_freq'\n",
    "save_cloud(wordcloud, filename)"
   ]
  },
  {
   "cell_type": "heading",
   "metadata": {},
   "level": 1,
   "source": [
    "Frequencies proportional to lengths (with random)"
   ]
  },
  {
   "cell_type": "code",
   "execution_count": 11,
   "metadata": {},
   "outputs": [],
   "source": [
    "freq_map = {t: len(t)*rs.random() for t in texts}\n",
    "wordcloud = wc.generate_from_frequencies(freq_map).recolor(random_state=state)\n",
    "\n",
    "filename = '03_proportional_random_freq'\n",
    "save_cloud(wordcloud, filename)"
   ]
  },
  {
   "cell_type": "code",
   "execution_count": 12,
   "metadata": {},
   "outputs": [],
   "source": [
    "def my_freq_conversion(freq):\n",
    "    coefs = [0.75, 12.32, -159.14, 626.99, -935.14, 81.63, 1254.24, -1280.36, 399.52]\n",
    "    res = 0\n",
    "    for power, coef in enumerate(coefs):\n",
    "        res += coef * pow(freq, power)\n",
    "    return min(res,1)\n",
    "\n",
    "max_len = max(map(len, texts))\n",
    "freq_map = {t: my_freq_conversion(len(t) / max_len) for t in texts}\n",
    "wordcloud = wc.generate_from_frequencies(freq_map).recolor(random_state=state)\n",
    "\n",
    "filename = '04_inv_proportional_regression_freq'\n",
    "save_cloud(wordcloud, filename)\n"
   ]
  },
  {
   "cell_type": "heading",
   "metadata": {},
   "level": 1,
   "source": [
    "Frequencies inversely proportional to lengths (bias)"
   ]
  },
  {
   "cell_type": "code",
   "execution_count": 13,
   "metadata": {},
   "outputs": [],
   "source": [
    "def bias_freq(freq, bias):\n",
    "    if bias < 0 or bias > 1:\n",
    "        raise ValueError(f'Wrong bias value: {bias}')\n",
    "    bias = bias + 1\n",
    "    return min(1.5 + (pow(bias / (1 + freq), 12) - 2 * pow(bias / (1 + freq), 6)), 1)\n",
    "\n",
    "max_len = max(map(len, texts))\n",
    "freq_map = {t: bias_freq(len(t) / max_len, 0.2) for t in texts}\n",
    "wordcloud = wc.generate_from_frequencies(freq_map).recolor(random_state=state)\n",
    "\n",
    "filename = '05_inv_proportional_biased_freq'\n",
    "save_cloud(wordcloud, filename)\n"
   ]
  },
  {
   "cell_type": "heading",
   "metadata": {},
   "level": 1,
   "source": [
    "Frequencies inversely proportional to lengths"
   ]
  },
  {
   "cell_type": "code",
   "execution_count": 14,
   "metadata": {},
   "outputs": [],
   "source": [
    "freq_map = {t: max(map(len, texts)) - len(t) for t in texts}\n",
    "wordcloud = wc.generate_from_frequencies(freq_map).recolor(random_state=state)\n",
    "\n",
    "filename = '06_inv_proportional_freq'\n",
    "save_cloud(wordcloud, filename)\n"
   ]
  },
  {
   "cell_type": "heading",
   "metadata": {},
   "level": 1,
   "source": [
    "Frequencies inversely proportional to lengths (with random)"
   ]
  },
  {
   "cell_type": "code",
   "execution_count": 15,
   "metadata": {},
   "outputs": [],
   "source": [
    "freq_map = {t: (max(map(len, texts)) - len(t)) * rs.random() for t in texts}\n",
    "wordcloud = wc.generate_from_frequencies(freq_map).recolor(random_state=state)\n",
    "\n",
    "filename = '07_inv_proportional_random_freq'\n",
    "save_cloud(wordcloud, filename)\n"
   ]
  }
 ],
 "metadata": {
  "kernelspec": {
   "display_name": "Python 2",
   "language": "python",
   "name": "python2"
  },
  "language_info": {
   "codemirror_mode": {
    "name": "ipython",
    "version": 2
   },
   "file_extension": ".py",
   "mimetype": "text/x-python",
   "name": "python",
   "nbconvert_exporter": "python",
   "pygments_lexer": "ipython2",
   "version": "2.7.6"
  }
 },
 "nbformat": 4,
 "nbformat_minor": 0
}
